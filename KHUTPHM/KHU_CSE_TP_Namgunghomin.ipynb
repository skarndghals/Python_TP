{
 "cells": [
  {
   "cell_type": "markdown",
   "metadata": {
    "id": "zOPhCs7fp8Kd"
   },
   "source": [
    "# **주제및 주제선정이유**\n",
    "---\n",
    "---"
   ]
  },
  {
   "cell_type": "markdown",
   "metadata": {
    "id": "KqAcgmM6EEWf"
   },
   "source": [
    "## **인천광역시의 노인인구 밀집지역과 노인복지시설 비교 및 분석**\n",
    "---\n",
    "대한민국은 현재 \n",
    "저출산과 고령화문제로 \n",
    "OECD국가중 상위권이라는 사실은 여러 기사들을 통해서 알 수 있다. 나는 우리 나라에서는 고령화사회를 잘 대처 하고 있는지 의문을 품었고, 대한민국에서 인구가 가장 많은 3개의 도시중 내가 거주중인 인천에서 노인비율과, 노인복지시설을 비교하려고 한다."
   ]
  },
  {
   "cell_type": "markdown",
   "metadata": {
    "id": "Hu5EyO5Lq_Xl"
   },
   "source": [
    "## **가설 정의**\n",
    "\n",
    "---\n",
    "\n",
    "\n",
    ">  [1] 인천광역시내 지역 인구 분포량과 노인 복지시설\n",
    "분포량을 그래프로 표현했을때, 두 그래프는 비슷한 모양으로 그려질 것이다. 이 가설은 두개의 자료가 각각 지역별 비슷한 비율로 분포되는것을 확인해보기 위함이다.\n",
    "\n",
    "> [2] 인천광역시 행정실적평가 상위 3개 지역(1.남동구 2.부평구 3.서구)은 노인복지시설이 잘 갖추어져 있을것이다. 반면에 하위 3개 지역(중구,동구,옹진)은 다른지역에 비해서 노인복지 시설이 제대로 갖추어져 있지 않을것이다.\n",
    "\n",
    "> [3] 노인복지시설의 총 수용량은 본 지역의 노인인구(60세 이상인구)를 충분히 수용할 수 있을것이다."
   ]
  },
  {
   "cell_type": "markdown",
   "metadata": {
    "id": "qO5zhImJrEBL"
   },
   "source": [
    "# **데이터 획득 및 가공**"
   ]
  },
  {
   "cell_type": "markdown",
   "metadata": {
    "id": "TBm6Z4mODfvD"
   },
   "source": [
    "## **pandas 데이터 불러오기**\n",
    "\n",
    "\n",
    "---\n",
    "\n",
    "\n"
   ]
  },
  {
   "cell_type": "code",
   "execution_count": 1,
   "metadata": {
    "id": "g-5iHbK_w4HQ"
   },
   "outputs": [],
   "source": [
    "import pandas as pd\n",
    "\n",
    "data1 = './icpdata.csv'\n",
    "file01 = pd.read_csv(data1,encoding='cp949')\n",
    "data2 = './icndata.csv'\n",
    "file02 = pd.read_csv(data2,encoding='cp949')"
   ]
  },
  {
   "cell_type": "markdown",
   "metadata": {
    "id": "Bx063hGxEiiY"
   },
   "source": [
    "\n",
    "\n",
    "> 다음은 인천광역시의 나이별, 지역별 인구 분포표이다.\n",
    "\n"
   ]
  },
  {
   "cell_type": "code",
   "execution_count": 2,
   "metadata": {
    "colab": {
     "base_uri": "https://localhost:8080/",
     "height": 1000
    },
    "id": "OJJkYlhpEUQq",
    "outputId": "06d54949-2e5d-40a9-d263-1fcee386c1ff"
   },
   "outputs": [
    {
     "data": {
      "text/html": [
       "<div>\n",
       "<style scoped>\n",
       "    .dataframe tbody tr th:only-of-type {\n",
       "        vertical-align: middle;\n",
       "    }\n",
       "\n",
       "    .dataframe tbody tr th {\n",
       "        vertical-align: top;\n",
       "    }\n",
       "\n",
       "    .dataframe thead th {\n",
       "        text-align: right;\n",
       "    }\n",
       "</style>\n",
       "<table border=\"1\" class=\"dataframe\">\n",
       "  <thead>\n",
       "    <tr style=\"text-align: right;\">\n",
       "      <th></th>\n",
       "      <th>군구명</th>\n",
       "      <th>행정구역(동읍면)별</th>\n",
       "      <th>항목</th>\n",
       "      <th>10세미만</th>\n",
       "      <th>10대</th>\n",
       "      <th>20대</th>\n",
       "      <th>30대</th>\n",
       "      <th>40대</th>\n",
       "      <th>50대</th>\n",
       "      <th>60대</th>\n",
       "      <th>70대</th>\n",
       "      <th>80대</th>\n",
       "      <th>90대</th>\n",
       "      <th>100세이상</th>\n",
       "    </tr>\n",
       "  </thead>\n",
       "  <tbody>\n",
       "    <tr>\n",
       "      <th>0</th>\n",
       "      <td>중구</td>\n",
       "      <td>연안동</td>\n",
       "      <td>남자인구수 (명)</td>\n",
       "      <td>120</td>\n",
       "      <td>151</td>\n",
       "      <td>361</td>\n",
       "      <td>369</td>\n",
       "      <td>481</td>\n",
       "      <td>737</td>\n",
       "      <td>694</td>\n",
       "      <td>298</td>\n",
       "      <td>107</td>\n",
       "      <td>13</td>\n",
       "      <td>0</td>\n",
       "    </tr>\n",
       "    <tr>\n",
       "      <th>1</th>\n",
       "      <td>중구</td>\n",
       "      <td>연안동</td>\n",
       "      <td>여자인구수 (명)</td>\n",
       "      <td>102</td>\n",
       "      <td>173</td>\n",
       "      <td>260</td>\n",
       "      <td>235</td>\n",
       "      <td>321</td>\n",
       "      <td>525</td>\n",
       "      <td>634</td>\n",
       "      <td>338</td>\n",
       "      <td>194</td>\n",
       "      <td>41</td>\n",
       "      <td>2</td>\n",
       "    </tr>\n",
       "    <tr>\n",
       "      <th>2</th>\n",
       "      <td>중구</td>\n",
       "      <td>신포동</td>\n",
       "      <td>남자인구수 (명)</td>\n",
       "      <td>133</td>\n",
       "      <td>178</td>\n",
       "      <td>294</td>\n",
       "      <td>283</td>\n",
       "      <td>429</td>\n",
       "      <td>462</td>\n",
       "      <td>417</td>\n",
       "      <td>275</td>\n",
       "      <td>113</td>\n",
       "      <td>12</td>\n",
       "      <td>0</td>\n",
       "    </tr>\n",
       "    <tr>\n",
       "      <th>3</th>\n",
       "      <td>중구</td>\n",
       "      <td>신포동</td>\n",
       "      <td>여자인구수 (명)</td>\n",
       "      <td>106</td>\n",
       "      <td>166</td>\n",
       "      <td>242</td>\n",
       "      <td>227</td>\n",
       "      <td>359</td>\n",
       "      <td>399</td>\n",
       "      <td>410</td>\n",
       "      <td>354</td>\n",
       "      <td>200</td>\n",
       "      <td>44</td>\n",
       "      <td>2</td>\n",
       "    </tr>\n",
       "    <tr>\n",
       "      <th>4</th>\n",
       "      <td>중구</td>\n",
       "      <td>신흥동</td>\n",
       "      <td>남자인구수 (명)</td>\n",
       "      <td>401</td>\n",
       "      <td>580</td>\n",
       "      <td>875</td>\n",
       "      <td>831</td>\n",
       "      <td>1068</td>\n",
       "      <td>1218</td>\n",
       "      <td>1018</td>\n",
       "      <td>524</td>\n",
       "      <td>192</td>\n",
       "      <td>14</td>\n",
       "      <td>0</td>\n",
       "    </tr>\n",
       "    <tr>\n",
       "      <th>...</th>\n",
       "      <td>...</td>\n",
       "      <td>...</td>\n",
       "      <td>...</td>\n",
       "      <td>...</td>\n",
       "      <td>...</td>\n",
       "      <td>...</td>\n",
       "      <td>...</td>\n",
       "      <td>...</td>\n",
       "      <td>...</td>\n",
       "      <td>...</td>\n",
       "      <td>...</td>\n",
       "      <td>...</td>\n",
       "      <td>...</td>\n",
       "      <td>...</td>\n",
       "    </tr>\n",
       "    <tr>\n",
       "      <th>313</th>\n",
       "      <td>옹진군</td>\n",
       "      <td>자월면</td>\n",
       "      <td>여자인구수 (명)</td>\n",
       "      <td>10</td>\n",
       "      <td>14</td>\n",
       "      <td>34</td>\n",
       "      <td>14</td>\n",
       "      <td>27</td>\n",
       "      <td>76</td>\n",
       "      <td>113</td>\n",
       "      <td>79</td>\n",
       "      <td>54</td>\n",
       "      <td>13</td>\n",
       "      <td>1</td>\n",
       "    </tr>\n",
       "    <tr>\n",
       "      <th>314</th>\n",
       "      <td>옹진군</td>\n",
       "      <td>자월면이작출장소</td>\n",
       "      <td>남자인구수 (명)</td>\n",
       "      <td>7</td>\n",
       "      <td>7</td>\n",
       "      <td>12</td>\n",
       "      <td>15</td>\n",
       "      <td>16</td>\n",
       "      <td>45</td>\n",
       "      <td>49</td>\n",
       "      <td>35</td>\n",
       "      <td>9</td>\n",
       "      <td>1</td>\n",
       "      <td>0</td>\n",
       "    </tr>\n",
       "    <tr>\n",
       "      <th>315</th>\n",
       "      <td>옹진군</td>\n",
       "      <td>자월면이작출장소</td>\n",
       "      <td>여자인구수 (명)</td>\n",
       "      <td>4</td>\n",
       "      <td>10</td>\n",
       "      <td>12</td>\n",
       "      <td>7</td>\n",
       "      <td>16</td>\n",
       "      <td>27</td>\n",
       "      <td>44</td>\n",
       "      <td>29</td>\n",
       "      <td>23</td>\n",
       "      <td>10</td>\n",
       "      <td>0</td>\n",
       "    </tr>\n",
       "    <tr>\n",
       "      <th>316</th>\n",
       "      <td>옹진군</td>\n",
       "      <td>연평면</td>\n",
       "      <td>남자인구수 (명)</td>\n",
       "      <td>46</td>\n",
       "      <td>67</td>\n",
       "      <td>361</td>\n",
       "      <td>148</td>\n",
       "      <td>184</td>\n",
       "      <td>204</td>\n",
       "      <td>176</td>\n",
       "      <td>76</td>\n",
       "      <td>29</td>\n",
       "      <td>6</td>\n",
       "      <td>0</td>\n",
       "    </tr>\n",
       "    <tr>\n",
       "      <th>317</th>\n",
       "      <td>옹진군</td>\n",
       "      <td>연평면</td>\n",
       "      <td>여자인구수 (명)</td>\n",
       "      <td>52</td>\n",
       "      <td>46</td>\n",
       "      <td>94</td>\n",
       "      <td>68</td>\n",
       "      <td>71</td>\n",
       "      <td>119</td>\n",
       "      <td>154</td>\n",
       "      <td>66</td>\n",
       "      <td>51</td>\n",
       "      <td>16</td>\n",
       "      <td>0</td>\n",
       "    </tr>\n",
       "  </tbody>\n",
       "</table>\n",
       "<p>318 rows × 14 columns</p>\n",
       "</div>"
      ],
      "text/plain": [
       "     군구명 행정구역(동읍면)별         항목  10세미만  10대  20대  30대   40대   50대   60대  70대  \\\n",
       "0     중구        연안동  남자인구수 (명)    120  151  361  369   481   737   694  298   \n",
       "1     중구        연안동  여자인구수 (명)    102  173  260  235   321   525   634  338   \n",
       "2     중구        신포동  남자인구수 (명)    133  178  294  283   429   462   417  275   \n",
       "3     중구        신포동  여자인구수 (명)    106  166  242  227   359   399   410  354   \n",
       "4     중구        신흥동  남자인구수 (명)    401  580  875  831  1068  1218  1018  524   \n",
       "..   ...        ...        ...    ...  ...  ...  ...   ...   ...   ...  ...   \n",
       "313  옹진군        자월면  여자인구수 (명)     10   14   34   14    27    76   113   79   \n",
       "314  옹진군   자월면이작출장소  남자인구수 (명)      7    7   12   15    16    45    49   35   \n",
       "315  옹진군   자월면이작출장소  여자인구수 (명)      4   10   12    7    16    27    44   29   \n",
       "316  옹진군        연평면  남자인구수 (명)     46   67  361  148   184   204   176   76   \n",
       "317  옹진군        연평면  여자인구수 (명)     52   46   94   68    71   119   154   66   \n",
       "\n",
       "     80대  90대  100세이상  \n",
       "0    107   13       0  \n",
       "1    194   41       2  \n",
       "2    113   12       0  \n",
       "3    200   44       2  \n",
       "4    192   14       0  \n",
       "..   ...  ...     ...  \n",
       "313   54   13       1  \n",
       "314    9    1       0  \n",
       "315   23   10       0  \n",
       "316   29    6       0  \n",
       "317   51   16       0  \n",
       "\n",
       "[318 rows x 14 columns]"
      ]
     },
     "execution_count": 2,
     "metadata": {},
     "output_type": "execute_result"
    }
   ],
   "source": [
    "file01"
   ]
  },
  {
   "cell_type": "markdown",
   "metadata": {
    "id": "Vs3G3URlDzyK"
   },
   "source": [
    "\n",
    "\n",
    "> 다음은 인천광역시의 노인복지시설 현황이다.\n",
    "\n"
   ]
  },
  {
   "cell_type": "code",
   "execution_count": 3,
   "metadata": {
    "colab": {
     "base_uri": "https://localhost:8080/",
     "height": 962
    },
    "id": "Vm2efxiTDbmc",
    "outputId": "cd314bd7-6918-4425-e228-94206cc3ec92"
   },
   "outputs": [
    {
     "data": {
      "text/html": [
       "<div>\n",
       "<style scoped>\n",
       "    .dataframe tbody tr th:only-of-type {\n",
       "        vertical-align: middle;\n",
       "    }\n",
       "\n",
       "    .dataframe tbody tr th {\n",
       "        vertical-align: top;\n",
       "    }\n",
       "\n",
       "    .dataframe thead th {\n",
       "        text-align: right;\n",
       "    }\n",
       "</style>\n",
       "<table border=\"1\" class=\"dataframe\">\n",
       "  <thead>\n",
       "    <tr style=\"text-align: right;\">\n",
       "      <th></th>\n",
       "      <th>군구별</th>\n",
       "      <th>시설수 (개소)_합계</th>\n",
       "      <th>입소인원(정원) (명)_합계</th>\n",
       "      <th>입소인원(현원) (명)_합계</th>\n",
       "      <th>종사자수 (명)_합계</th>\n",
       "      <th>노인요양시설_시설수 (개소)</th>\n",
       "      <th>노인요양시설_입소인원(정원) (명)</th>\n",
       "      <th>노인요양시설_입소인원(현원) (명)</th>\n",
       "      <th>노인요양시설_종사자수 (명)</th>\n",
       "      <th>노인요양공동생활가정_시설수 (개소)</th>\n",
       "      <th>노인요양공동생활가정_입소인원(정원) (명)</th>\n",
       "      <th>노인요양공동생활가정_입소인원(현원) (명)</th>\n",
       "      <th>노인요양공동생활가정_종사자수 (명)</th>\n",
       "    </tr>\n",
       "  </thead>\n",
       "  <tbody>\n",
       "    <tr>\n",
       "      <th>0</th>\n",
       "      <td>강화군</td>\n",
       "      <td>30</td>\n",
       "      <td>1284</td>\n",
       "      <td>1071</td>\n",
       "      <td>719</td>\n",
       "      <td>22</td>\n",
       "      <td>1215</td>\n",
       "      <td>1010</td>\n",
       "      <td>673</td>\n",
       "      <td>8</td>\n",
       "      <td>69</td>\n",
       "      <td>61</td>\n",
       "      <td>46</td>\n",
       "    </tr>\n",
       "    <tr>\n",
       "      <th>1</th>\n",
       "      <td>계양구</td>\n",
       "      <td>50</td>\n",
       "      <td>1584</td>\n",
       "      <td>1469</td>\n",
       "      <td>932</td>\n",
       "      <td>35</td>\n",
       "      <td>1449</td>\n",
       "      <td>1339</td>\n",
       "      <td>838</td>\n",
       "      <td>15</td>\n",
       "      <td>135</td>\n",
       "      <td>130</td>\n",
       "      <td>94</td>\n",
       "    </tr>\n",
       "    <tr>\n",
       "      <th>2</th>\n",
       "      <td>남동구</td>\n",
       "      <td>91</td>\n",
       "      <td>2526</td>\n",
       "      <td>2104</td>\n",
       "      <td>1545</td>\n",
       "      <td>58</td>\n",
       "      <td>2262</td>\n",
       "      <td>1859</td>\n",
       "      <td>1339</td>\n",
       "      <td>33</td>\n",
       "      <td>264</td>\n",
       "      <td>245</td>\n",
       "      <td>206</td>\n",
       "    </tr>\n",
       "    <tr>\n",
       "      <th>3</th>\n",
       "      <td>동구</td>\n",
       "      <td>9</td>\n",
       "      <td>337</td>\n",
       "      <td>313</td>\n",
       "      <td>225</td>\n",
       "      <td>7</td>\n",
       "      <td>319</td>\n",
       "      <td>295</td>\n",
       "      <td>212</td>\n",
       "      <td>2</td>\n",
       "      <td>18</td>\n",
       "      <td>18</td>\n",
       "      <td>13</td>\n",
       "    </tr>\n",
       "    <tr>\n",
       "      <th>4</th>\n",
       "      <td>미추홀구</td>\n",
       "      <td>45</td>\n",
       "      <td>1833</td>\n",
       "      <td>1734</td>\n",
       "      <td>1176</td>\n",
       "      <td>36</td>\n",
       "      <td>1725</td>\n",
       "      <td>1629</td>\n",
       "      <td>1176</td>\n",
       "      <td>12</td>\n",
       "      <td>108</td>\n",
       "      <td>105</td>\n",
       "      <td>61</td>\n",
       "    </tr>\n",
       "    <tr>\n",
       "      <th>5</th>\n",
       "      <td>부평구</td>\n",
       "      <td>59</td>\n",
       "      <td>2076</td>\n",
       "      <td>1878</td>\n",
       "      <td>1220</td>\n",
       "      <td>46</td>\n",
       "      <td>1960</td>\n",
       "      <td>1765</td>\n",
       "      <td>1143</td>\n",
       "      <td>13</td>\n",
       "      <td>116</td>\n",
       "      <td>113</td>\n",
       "      <td>77</td>\n",
       "    </tr>\n",
       "    <tr>\n",
       "      <th>6</th>\n",
       "      <td>서구</td>\n",
       "      <td>65</td>\n",
       "      <td>2311</td>\n",
       "      <td>2060</td>\n",
       "      <td>1420</td>\n",
       "      <td>52</td>\n",
       "      <td>2194</td>\n",
       "      <td>1943</td>\n",
       "      <td>1328</td>\n",
       "      <td>13</td>\n",
       "      <td>117</td>\n",
       "      <td>117</td>\n",
       "      <td>92</td>\n",
       "    </tr>\n",
       "    <tr>\n",
       "      <th>7</th>\n",
       "      <td>연수구</td>\n",
       "      <td>91</td>\n",
       "      <td>2526</td>\n",
       "      <td>2104</td>\n",
       "      <td>1545</td>\n",
       "      <td>58</td>\n",
       "      <td>2262</td>\n",
       "      <td>1859</td>\n",
       "      <td>1339</td>\n",
       "      <td>33</td>\n",
       "      <td>264</td>\n",
       "      <td>245</td>\n",
       "      <td>206</td>\n",
       "    </tr>\n",
       "    <tr>\n",
       "      <th>8</th>\n",
       "      <td>옹진군</td>\n",
       "      <td>3</td>\n",
       "      <td>111</td>\n",
       "      <td>73</td>\n",
       "      <td>53</td>\n",
       "      <td>2</td>\n",
       "      <td>102</td>\n",
       "      <td>64</td>\n",
       "      <td>47</td>\n",
       "      <td>1</td>\n",
       "      <td>9</td>\n",
       "      <td>9</td>\n",
       "      <td>6</td>\n",
       "    </tr>\n",
       "    <tr>\n",
       "      <th>9</th>\n",
       "      <td>중구</td>\n",
       "      <td>19</td>\n",
       "      <td>796</td>\n",
       "      <td>663</td>\n",
       "      <td>463</td>\n",
       "      <td>17</td>\n",
       "      <td>778</td>\n",
       "      <td>645</td>\n",
       "      <td>454</td>\n",
       "      <td>2</td>\n",
       "      <td>18</td>\n",
       "      <td>18</td>\n",
       "      <td>15</td>\n",
       "    </tr>\n",
       "  </tbody>\n",
       "</table>\n",
       "</div>"
      ],
      "text/plain": [
       "    군구별  시설수 (개소)_합계  입소인원(정원) (명)_합계  입소인원(현원) (명)_합계  종사자수 (명)_합계  \\\n",
       "0   강화군           30             1284             1071          719   \n",
       "1   계양구           50             1584             1469          932   \n",
       "2   남동구           91             2526             2104         1545   \n",
       "3    동구            9              337              313          225   \n",
       "4  미추홀구           45             1833             1734         1176   \n",
       "5   부평구           59             2076             1878         1220   \n",
       "6    서구           65             2311             2060         1420   \n",
       "7   연수구           91             2526             2104         1545   \n",
       "8   옹진군            3              111               73           53   \n",
       "9    중구           19              796              663          463   \n",
       "\n",
       "   노인요양시설_시설수 (개소)  노인요양시설_입소인원(정원) (명)  노인요양시설_입소인원(현원) (명)  노인요양시설_종사자수 (명)  \\\n",
       "0               22                 1215                 1010              673   \n",
       "1               35                 1449                 1339              838   \n",
       "2               58                 2262                 1859             1339   \n",
       "3                7                  319                  295              212   \n",
       "4               36                 1725                 1629             1176   \n",
       "5               46                 1960                 1765             1143   \n",
       "6               52                 2194                 1943             1328   \n",
       "7               58                 2262                 1859             1339   \n",
       "8                2                  102                   64               47   \n",
       "9               17                  778                  645              454   \n",
       "\n",
       "   노인요양공동생활가정_시설수 (개소)  노인요양공동생활가정_입소인원(정원) (명)  노인요양공동생활가정_입소인원(현원) (명)  \\\n",
       "0                    8                       69                       61   \n",
       "1                   15                      135                      130   \n",
       "2                   33                      264                      245   \n",
       "3                    2                       18                       18   \n",
       "4                   12                      108                      105   \n",
       "5                   13                      116                      113   \n",
       "6                   13                      117                      117   \n",
       "7                   33                      264                      245   \n",
       "8                    1                        9                        9   \n",
       "9                    2                       18                       18   \n",
       "\n",
       "   노인요양공동생활가정_종사자수 (명)  \n",
       "0                   46  \n",
       "1                   94  \n",
       "2                  206  \n",
       "3                   13  \n",
       "4                   61  \n",
       "5                   77  \n",
       "6                   92  \n",
       "7                  206  \n",
       "8                    6  \n",
       "9                   15  "
      ]
     },
     "execution_count": 3,
     "metadata": {},
     "output_type": "execute_result"
    }
   ],
   "source": [
    "file02 = file02.sort_values(by='군구별') #오름차순정렬\n",
    "file02.index = [0,1,2,3,4,5,6,7,8,9]\n",
    "file02"
   ]
  },
  {
   "cell_type": "code",
   "execution_count": 4,
   "metadata": {
    "colab": {
     "base_uri": "https://localhost:8080/"
    },
    "id": "JGIAP_jNFYrz",
    "outputId": "2ab75722-1acc-4362-fa22-dc55f38a79ad"
   },
   "outputs": [
    {
     "name": "stdout",
     "output_type": "stream",
     "text": [
      "<class 'pandas.core.frame.DataFrame'>\n",
      "RangeIndex: 318 entries, 0 to 317\n",
      "Data columns (total 14 columns):\n",
      " #   Column      Non-Null Count  Dtype \n",
      "---  ------      --------------  ----- \n",
      " 0   군구명         318 non-null    object\n",
      " 1   행정구역(동읍면)별  318 non-null    object\n",
      " 2   항목          318 non-null    object\n",
      " 3   10세미만       318 non-null    int64 \n",
      " 4   10대         318 non-null    int64 \n",
      " 5   20대         318 non-null    int64 \n",
      " 6   30대         318 non-null    int64 \n",
      " 7   40대         318 non-null    int64 \n",
      " 8   50대         318 non-null    int64 \n",
      " 9   60대         318 non-null    int64 \n",
      " 10  70대         318 non-null    int64 \n",
      " 11  80대         318 non-null    int64 \n",
      " 12  90대         318 non-null    int64 \n",
      " 13  100세이상      318 non-null    int64 \n",
      "dtypes: int64(11), object(3)\n",
      "memory usage: 34.9+ KB\n",
      "<class 'pandas.core.frame.DataFrame'>\n",
      "Int64Index: 10 entries, 0 to 9\n",
      "Data columns (total 13 columns):\n",
      " #   Column                   Non-Null Count  Dtype \n",
      "---  ------                   --------------  ----- \n",
      " 0   군구별                      10 non-null     object\n",
      " 1   시설수 (개소)_합계              10 non-null     int64 \n",
      " 2   입소인원(정원) (명)_합계          10 non-null     int64 \n",
      " 3   입소인원(현원) (명)_합계          10 non-null     int64 \n",
      " 4   종사자수 (명)_합계              10 non-null     int64 \n",
      " 5   노인요양시설_시설수 (개소)          10 non-null     int64 \n",
      " 6   노인요양시설_입소인원(정원) (명)      10 non-null     int64 \n",
      " 7   노인요양시설_입소인원(현원) (명)      10 non-null     int64 \n",
      " 8   노인요양시설_종사자수 (명)          10 non-null     int64 \n",
      " 9   노인요양공동생활가정_시설수 (개소)      10 non-null     int64 \n",
      " 10  노인요양공동생활가정_입소인원(정원) (명)  10 non-null     int64 \n",
      " 11  노인요양공동생활가정_입소인원(현원) (명)  10 non-null     int64 \n",
      " 12  노인요양공동생활가정_종사자수 (명)      10 non-null     int64 \n",
      "dtypes: int64(12), object(1)\n",
      "memory usage: 1.1+ KB\n"
     ]
    }
   ],
   "source": [
    "file01.info()\n",
    "file02.info()"
   ]
  },
  {
   "cell_type": "markdown",
   "metadata": {
    "id": "4DRfwvIK8f5J"
   },
   "source": [
    "### **가설1 준비**\n",
    "---\n",
    "---"
   ]
  },
  {
   "cell_type": "markdown",
   "metadata": {},
   "source": [
    "\n",
    "\n",
    "> 다음은 가설들을 증명하기 위해 중복행을 합치고, 지역별 인구 합계를 계산하며, 원하는행만 뽑아내는 가공단계이다."
   ]
  },
  {
   "cell_type": "code",
   "execution_count": 5,
   "metadata": {
    "colab": {
     "base_uri": "https://localhost:8080/",
     "height": 650
    },
    "id": "899SastH8zaZ",
    "outputId": "1b3e289d-2a0a-400c-c7d3-abff6b2d17bd"
   },
   "outputs": [
    {
     "name": "stdout",
     "output_type": "stream",
     "text": [
      "['강화군', '계양구', '남동구', '동구', '미추홀구', '부평구', '서구', '연수구', '옹진군', '중구'] [30, 50, 91, 9, 45, 59, 65, 91, 3, 19]\n"
     ]
    }
   ],
   "source": [
    "df1 = file01.groupby('군구명').sum()\n",
    "df1sum = dict(df1.sum(axis=1))\n",
    "df2 = file02[['군구별','시설수 (개소)_합계']]\n",
    "\n",
    "df2_dct = dict(df2)\n",
    "df2_list = list(df2_dct.values())\n",
    "df2_key = list()\n",
    "df2_value = list()\n",
    "for i in range(10):\n",
    "    df2_key.append(df2_list[0][i])\n",
    "for i in range(10):\n",
    "    df2_value.append(df2_list[1][i])\n",
    "    \n",
    "print(df2_key,df2_value)"
   ]
  },
  {
   "cell_type": "code",
   "execution_count": 6,
   "metadata": {
    "colab": {
     "base_uri": "https://localhost:8080/"
    },
    "id": "aI5jj6oIG662",
    "outputId": "ee56c0ea-6146-4b6b-e554-79aef10a4fc9"
   },
   "outputs": [
    {
     "name": "stdout",
     "output_type": "stream",
     "text": [
      "[69324, 295492, 519667, 62410, 405811, 489178, 544726, 390107, 20373, 141341] ['강화군', '계양구', '남동구', '동구', '미추홀구', '부평구', '서구', '연수구', '옹진군', '중구']\n"
     ]
    }
   ],
   "source": [
    "\n",
    "df1_value = list(df1sum.values())\n",
    "df1_key = list(df1sum.keys())\n",
    "print(df1_value,df1_key)"
   ]
  },
  {
   "cell_type": "code",
   "execution_count": 7,
   "metadata": {
    "id": "zHpf4sApRV_R"
   },
   "outputs": [
    {
     "data": {
      "text/plain": [
       "{'강화군': 69324,\n",
       " '계양구': 295492,\n",
       " '남동구': 519667,\n",
       " '동구': 62410,\n",
       " '미추홀구': 405811,\n",
       " '부평구': 489178,\n",
       " '서구': 544726,\n",
       " '연수구': 390107,\n",
       " '옹진군': 20373,\n",
       " '중구': 141341}"
      ]
     },
     "execution_count": 7,
     "metadata": {},
     "output_type": "execute_result"
    }
   ],
   "source": [
    "import numpy as np\n",
    "import matplotlib.pyplot as plt\n",
    "plt.rc('font', family='Malgun Gothic') #윈도우환경\n",
    "#plt.rc('font', family='AppleGothic') #맥북환경\n",
    "df1sum"
   ]
  },
  {
   "cell_type": "markdown",
   "metadata": {},
   "source": [
    ">두 자료를 비교하기에 앞서, 노인시설에 비해 상대적으로 값이 너무 큰 인구수 데이터를 적당한 사이즈로 줄이는게 좋을거라고 판단하였다.\n",
    ">이 상태로는 같은 곳에다 두 그래프를 모두 그리려고 해도 값차이가 너무 커서 불가능하다"
   ]
  },
  {
   "cell_type": "code",
   "execution_count": 8,
   "metadata": {
    "colab": {
     "base_uri": "https://localhost:8080/",
     "height": 1000
    },
    "id": "4oXUWOcNIKpI",
    "outputId": "dce201d9-43bb-41ec-9f45-330ff77cc975"
   },
   "outputs": [
    {
     "data": {
      "text/plain": [
       "[26.9324,\n",
       " 49.5492,\n",
       " 71.9667,\n",
       " 26.241,\n",
       " 60.5811,\n",
       " 68.9178,\n",
       " 74.4726,\n",
       " 59.0107,\n",
       " 22.037300000000002,\n",
       " 34.134100000000004]"
      ]
     },
     "execution_count": 8,
     "metadata": {},
     "output_type": "execute_result"
    }
   ],
   "source": [
    "df1value = []\n",
    "for i in range(10):\n",
    "    df1value.append((df1_value[i]/10000)+20)\n",
    "df1value"
   ]
  },
  {
   "cell_type": "markdown",
   "metadata": {},
   "source": [
    "### **가설2 준비**\n",
    "---\n",
    "---"
   ]
  },
  {
   "cell_type": "markdown",
   "metadata": {},
   "source": [
    ">가설2를 증명하기 위해 모든지역 노인시설수의 평균을 구할것이다."
   ]
  },
  {
   "cell_type": "code",
   "execution_count": 10,
   "metadata": {},
   "outputs": [
    {
     "data": {
      "text/html": [
       "<div>\n",
       "<style scoped>\n",
       "    .dataframe tbody tr th:only-of-type {\n",
       "        vertical-align: middle;\n",
       "    }\n",
       "\n",
       "    .dataframe tbody tr th {\n",
       "        vertical-align: top;\n",
       "    }\n",
       "\n",
       "    .dataframe thead th {\n",
       "        text-align: right;\n",
       "    }\n",
       "</style>\n",
       "<table border=\"1\" class=\"dataframe\">\n",
       "  <thead>\n",
       "    <tr style=\"text-align: right;\">\n",
       "      <th></th>\n",
       "      <th>군구별</th>\n",
       "      <th>시설수 (개소)_합계</th>\n",
       "    </tr>\n",
       "  </thead>\n",
       "  <tbody>\n",
       "    <tr>\n",
       "      <th>0</th>\n",
       "      <td>강화군</td>\n",
       "      <td>30</td>\n",
       "    </tr>\n",
       "    <tr>\n",
       "      <th>1</th>\n",
       "      <td>계양구</td>\n",
       "      <td>50</td>\n",
       "    </tr>\n",
       "    <tr>\n",
       "      <th>2</th>\n",
       "      <td>남동구</td>\n",
       "      <td>91</td>\n",
       "    </tr>\n",
       "    <tr>\n",
       "      <th>3</th>\n",
       "      <td>동구</td>\n",
       "      <td>9</td>\n",
       "    </tr>\n",
       "    <tr>\n",
       "      <th>4</th>\n",
       "      <td>미추홀구</td>\n",
       "      <td>45</td>\n",
       "    </tr>\n",
       "    <tr>\n",
       "      <th>5</th>\n",
       "      <td>부평구</td>\n",
       "      <td>59</td>\n",
       "    </tr>\n",
       "    <tr>\n",
       "      <th>6</th>\n",
       "      <td>서구</td>\n",
       "      <td>65</td>\n",
       "    </tr>\n",
       "    <tr>\n",
       "      <th>7</th>\n",
       "      <td>연수구</td>\n",
       "      <td>91</td>\n",
       "    </tr>\n",
       "    <tr>\n",
       "      <th>8</th>\n",
       "      <td>옹진군</td>\n",
       "      <td>3</td>\n",
       "    </tr>\n",
       "    <tr>\n",
       "      <th>9</th>\n",
       "      <td>중구</td>\n",
       "      <td>19</td>\n",
       "    </tr>\n",
       "  </tbody>\n",
       "</table>\n",
       "</div>"
      ],
      "text/plain": [
       "    군구별  시설수 (개소)_합계\n",
       "0   강화군           30\n",
       "1   계양구           50\n",
       "2   남동구           91\n",
       "3    동구            9\n",
       "4  미추홀구           45\n",
       "5   부평구           59\n",
       "6    서구           65\n",
       "7   연수구           91\n",
       "8   옹진군            3\n",
       "9    중구           19"
      ]
     },
     "execution_count": 10,
     "metadata": {},
     "output_type": "execute_result"
    }
   ],
   "source": [
    "df2_s = 0\n",
    "for i in range(10):\n",
    "    df2_s += df2_value[i]\n",
    "df2_s = df2_s/10\n",
    "df2"
   ]
  },
  {
   "cell_type": "markdown",
   "metadata": {},
   "source": [
    ">모든 지역의 노인시설수평균은 46.2이다."
   ]
  },
  {
   "cell_type": "markdown",
   "metadata": {},
   "source": [
    "### **가설3 준비**\n",
    "---\n",
    "---\n"
   ]
  },
  {
   "cell_type": "markdown",
   "metadata": {},
   "source": [
    ">가설3을 증명하기위해 노인복지시설의 총 수용량을 추출해보았다."
   ]
  },
  {
   "cell_type": "code",
   "execution_count": 12,
   "metadata": {},
   "outputs": [
    {
     "data": {
      "text/plain": [
       "0    1284\n",
       "1    1584\n",
       "2    2526\n",
       "3     337\n",
       "4    1833\n",
       "5    2076\n",
       "6    2311\n",
       "7    2526\n",
       "8     111\n",
       "9     796\n",
       "Name: 입소인원(정원) (명)_합계, dtype: int64"
      ]
     },
     "execution_count": 12,
     "metadata": {},
     "output_type": "execute_result"
    }
   ],
   "source": [
    "df2_sf = file02[['군구별','입소인원(정원) (명)_합계']]\n",
    "df2_sf['입소인원(정원) (명)_합계']"
   ]
  },
  {
   "cell_type": "markdown",
   "metadata": {},
   "source": [
    ">이제 가설3을 증명하기 위한 모든 준비가 끝났다. 60세 인구데이터는 구조상 증명부분에서 정리해둘것이다."
   ]
  },
  {
   "cell_type": "markdown",
   "metadata": {
    "id": "QCYjA_e_rJ3V"
   },
   "source": [
    "# **분석 결과**"
   ]
  },
  {
   "cell_type": "markdown",
   "metadata": {},
   "source": [
    "### **가설1 증명/확인**\n",
    "---\n",
    "---"
   ]
  },
  {
   "cell_type": "markdown",
   "metadata": {},
   "source": [
    ">다음은 가설1을 증명하기 위해 두 값을 그래프로 그리는 코드이다."
   ]
  },
  {
   "cell_type": "code",
   "execution_count": 28,
   "metadata": {},
   "outputs": [
    {
     "data": {
      "image/png": "[encoded data removed]",
      "text/plain": [
       "<Figure size 640x480 with 1 Axes>"
      ]
     },
     "metadata": {},
     "output_type": "display_data"
    }
   ],
   "source": [
    "plt.plot(df1_key, df1value,'r:o')\n",
    "plt.plot(df2_key,df2_value,'b:o')\n",
    "plt.title(\"지역별 인구와 노인시설수 비교\")\n",
    "\n",
    "plt.show()"
   ]
  },
  {
   "cell_type": "markdown",
   "metadata": {},
   "source": [
    ">그래프를 보면 붉은색꺾은선이 크기를 적당히 조정한 인구분포표이고, 푸른색이 노인복지시설 분포표이다.\n",
    "\n",
    ">전체적으로 둘은 비슷한 모양새를 띄는것을 알 수 있다. 하지만 연수구는 유일하게 이상수치가 나온것을 확인할 수 있다.\n",
    "\n",
    "[가설1] 인천광역시내 지역 인구 분포량과 노인 복지시설 분포량을 그래프로 표현했을때, 두 그래프는 비슷한 모양으로 그려질 것이다. 이 가설은 두개의 자료가 각각 지역별 비슷한 비율로 분포되는것을 확인해보기 위함이다.\n",
    "\n",
    ">두 그래프는 비슷한 모양으로 그려진것으로 보인다. 위 가설은 참이다."
   ]
  },
  {
   "cell_type": "markdown",
   "metadata": {},
   "source": [
    "### **가설2 증명/확인**\n",
    "---\n",
    "---"
   ]
  },
  {
   "cell_type": "markdown",
   "metadata": {},
   "source": [
    "\n",
    ">이제 평균+상위3개지역+하위3개지역을 그래프로 그려본 뒤에 비교를 할것이다."
   ]
  },
  {
   "cell_type": "code",
   "execution_count": 29,
   "metadata": {},
   "outputs": [
    {
     "data": {
      "image/png": "[encoded data removed]",
      "text/plain": [
       "<Figure size 640x480 with 1 Axes>"
      ]
     },
     "metadata": {},
     "output_type": "display_data"
    }
   ],
   "source": [
    "colors = ['orange','orange','orange','black','darkgray','darkgray','darkgray']\n",
    "t = ['남동구','부평구','서구','평균','중구','동구','옹진']\n",
    "s = [df2_value[2],df2_value[5],df2_value[6],df2_s,df2_value[9],df2_value[3],df2_value[8]]\n",
    "plt.bar(t, s,color=colors)\n",
    "plt.title(\"상/하위 지역과 평균 비교\")\n",
    "plt.show()"
   ]
  },
  {
   "cell_type": "markdown",
   "metadata": {},
   "source": [
    "[가설2] 인천광역시 행정실적평가 상위 3개 지역(1.남동구 2.부평구 3.서구)은 노인복지시설이 잘 갖추어져 있을것이다. 반면에 하위 3개 지역(중구,동구,옹진)은 다른지역에 비해서 노인복지 시설이 제대로 갖추어져 있지 않을것이다.\n",
    "\n",
    ">위 가설은 참이다."
   ]
  },
  {
   "cell_type": "markdown",
   "metadata": {},
   "source": [
    "### **가설3 증명/확인**\n",
    "---\n",
    "---"
   ]
  },
  {
   "cell_type": "markdown",
   "metadata": {},
   "source": [
    ">60세~ 인구데이터를 정리하고 \n",
    "\n",
    ">수용시설은 bar, 노인총량은 plot으로 그려 선그래프가 막대그래프를 넘는지 관찰할것이다."
   ]
  },
  {
   "cell_type": "code",
   "execution_count": 34,
   "metadata": {},
   "outputs": [
    {
     "data": {
      "image/png": "[encoded data removed]",
      "text/plain": [
       "<Figure size 640x480 with 1 Axes>"
      ]
     },
     "metadata": {},
     "output_type": "display_data"
    }
   ],
   "source": [
    "\n",
    "df1_s = []\n",
    "for i in range(10):\n",
    "    df1_s.append(df1['60대'].values[i])\n",
    "    df1_s[i] += df1['70대'].values[i]\n",
    "    df1_s[i] += df1['80대'].values[i]\n",
    "    df1_s[i] += df1['90대'].values[i]\n",
    "    df1_s[i] += df1['100세이상'].values[i]\n",
    "df1_s\n",
    "\n",
    "\n",
    "plt.bar(df1_key, df1_s)\n",
    "plt.plot(df1_key, df2_sf['입소인원(정원) (명)_합계'],'r:o')\n",
    "plt.title(\"60세이상 인구와 수용량 비교\")\n",
    "plt.show()"
   ]
  },
  {
   "cell_type": "markdown",
   "metadata": {},
   "source": [
    ">푸른색 막대그래프는 지역별 60~ 인구이고 붉은색 꺾은선 그래프는 지역별 노인시설 수용정원이다."
   ]
  },
  {
   "cell_type": "markdown",
   "metadata": {},
   "source": [
    ">그래프를 그려보니 60대부터 잡는건 고령화시대에 안맞는 기준이라고 느껴지기도 하고 심지어 60대는 노인시설이용이 큰 세대는 아니라고 생각하였다. 그러므로 90세기준으로 바꾸어 분석을 다시하기로 했다.\n"
   ]
  },
  {
   "cell_type": "code",
   "execution_count": 31,
   "metadata": {},
   "outputs": [
    {
     "data": {
      "image/png": "[encoded data removed]",
      "text/plain": [
       "<Figure size 640x480 with 1 Axes>"
      ]
     },
     "metadata": {},
     "output_type": "display_data"
    }
   ],
   "source": [
    "df1_s = []\n",
    "for i in range(10):\n",
    "    df1_s.append(df1['90대'].values[i])\n",
    "    df1_s[i] += df1['100세이상'].values[i]\n",
    "df1_s\n",
    "plt.bar(df1_key, df1_s)\n",
    "plt.plot(df1_key, df2_sf['입소인원(정원) (명)_합계'],'r:o')\n",
    "plt.title(\"90세이상 인구와 수용량 비교\")\n",
    "plt.show()"
   ]
  },
  {
   "cell_type": "markdown",
   "metadata": {},
   "source": [
    ">푸른색 막대그래프는 지역별 90~ 인구이고 붉은색 꺾은선 그래프는 지역별 노인시설 수용정원이다.\n",
    "\n",
    ">다른 가설에서 분석하였을때, 연수구의 노인시설과다는 이 그래프에서도 보여지고있다.\n",
    "\n",
    ">기준을 90대 이상으로 바꾸기 전에는 노인시설수용량이 60세 이상 노인수에 비해 압도적으로 부족하였다. \n",
    ">하지만 기준을 90대로 바꾼이후에서는 노인수와 수용량이 아슬아슬하게 들어맞고있다.\n",
    "\n",
    ">기준을 살짝만 바꿔서 지역별 80대 이상노인수와 노인시설수용량을 비교해보기로 했다."
   ]
  },
  {
   "cell_type": "code",
   "execution_count": 32,
   "metadata": {},
   "outputs": [
    {
     "data": {
      "image/png": "[encoded data removed]",
      "text/plain": [
       "<Figure size 640x480 with 1 Axes>"
      ]
     },
     "metadata": {},
     "output_type": "display_data"
    }
   ],
   "source": [
    "df1_s = []\n",
    "for i in range(10):\n",
    "    df1_s.append(df1['80대'].values[i])\n",
    "    df1_s[i] += df1['90대'].values[i]\n",
    "    df1_s[i] += df1['100세이상'].values[i]\n",
    "df1_s\n",
    "plt.bar(df1_key, df1_s)\n",
    "plt.plot(df1_key, df2_sf['입소인원(정원) (명)_합계'],'r:o')\n",
    "plt.title(\"80세이상 인구와 수용량 비교\")\n",
    "plt.show()"
   ]
  },
  {
   "cell_type": "markdown",
   "metadata": {},
   "source": [
    ">푸른색 막대그래프는 지역별 80~ 인구이고 붉은색 꺾은선 그래프는 지역별 노인시설 수용정원이다.\n",
    "\n",
    ">나이대를 한칸만 낮추었을뿐인데, 두 그래프는 큰 차이를 보이고 있다.\n",
    "\n",
    ">90대 이상 노인수는 어느정도 수용량을 맞추고 있었지만 기준이 80대로 낮아지면 수용량이 엄청나게 모자라다.\n",
    "\n",
    ">아래 가설은 90대기준에도 완벽히까지는 아니지만 어느정도 참이라고 볼 수 있다.\n",
    "\n",
    ">하지만, 그외 80,60 기준에서의 노인수에는 노인시설수용량이 한참 부족한것으로 보인다.\n",
    "\n",
    "[가설3] 노인복지시설의 총 수용량은 본 지역의 노인인구(60세 이상인구)를 충분히 수용할 수 있을것이다."
   ]
  },
  {
   "cell_type": "markdown",
   "metadata": {
    "id": "9GE9ufyurOFn"
   },
   "source": [
    "# **결론**"
   ]
  },
  {
   "cell_type": "markdown",
   "metadata": {},
   "source": [
    ">가설1은 이상수치 1개 발견 그리고 가설2는 완벽한 참이다. 하지만 이 두개의 가설과는 다르게 가설3과같은 경우는 완전히 틀렸다.\n",
    ">60세 이상일때는 수용량이 인구량에 따라가지 못하는 결과가 보여진다. 하지만 조건을 낮추었을때 결과적으로 90세 이상기준에서만 가설이 충족하였다.\n",
    "\n",
    ">**모든 가설을 증명하고 또 확인하여 종합해본 결과, 특히 가장 중요한 3번가설 증명을 생각해 보았을때, 인천광역시의 노인 고령화 대처는 미숙하다는 결과를 도출해낼수 있다.**"
   ]
  },
  {
   "cell_type": "markdown",
   "metadata": {
    "id": "2xF7zYRFrS8N"
   },
   "source": [
    "# **참고문헌**"
   ]
  },
  {
   "cell_type": "markdown",
   "metadata": {},
   "source": [
    ">인천시 행정실적 종합평가 https://www.incheon.go.kr/fileviewer/v/p7biDIwtmSX"
   ]
  },
  {
   "cell_type": "markdown",
   "metadata": {
    "id": "zFtd5SRjrXmY"
   },
   "source": [
    "# **별첨**"
   ]
  },
  {
   "cell_type": "markdown",
   "metadata": {},
   "source": [
    "### **데이터 출처**\n",
    "\n",
    "\n",
    "> (1)인천데이터포털,인천광역시_행정구역_읍면동_성별_10세별_주민등록인구\n",
    "\n",
    "> (2) 공공데이터포털,인천광역시_노인의료복지시설현황\n",
    "\n",
    "> 1 : https://www.incheon.go.kr/data/DATA010201/view?docId=15091499\n",
    "\n",
    "> 2 : https://www.data.go.kr/data/15064878/fileData.do\n",
    "\n"
   ]
  }
 ],
 "metadata": {
  "colab": {
   "provenance": []
  },
  "kernelspec": {
   "display_name": "Python 3 (ipykernel)",
   "language": "python",
   "name": "python3"
  },
  "language_info": {
   "codemirror_mode": {
    "name": "ipython",
    "version": 3
   },
   "file_extension": ".py",
   "mimetype": "text/x-python",
   "name": "python",
   "nbconvert_exporter": "python",
   "pygments_lexer": "ipython3",
   "version": "3.9.13"
  }
 },
 "nbformat": 4,
 "nbformat_minor": 1
}
